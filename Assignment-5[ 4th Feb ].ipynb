{
 "cells": [
  {
   "cell_type": "code",
   "execution_count": 22,
   "id": "df3d3180-6739-412e-aede-20592ec7b549",
   "metadata": {},
   "outputs": [],
   "source": [
    "def sort_list(l):\n",
    "    for i in range(len(l)):\n",
    "        for j in range(i+1,len(l)):\n",
    "            if l[i][1] > l[j][1]:\n",
    "                k=l[i]\n",
    "                l[i]=l[j]\n",
    "                l[j]=k\n",
    "    return l"
   ]
  },
  {
   "cell_type": "code",
   "execution_count": 23,
   "id": "5c20ba37-a2a9-451f-bcc1-e59645bd8981",
   "metadata": {},
   "outputs": [
    {
     "data": {
      "text/plain": [
       "[('Virat Kohli', 24936),\n",
       " ('Jack Kallis', 25534),\n",
       " ('Ricky Pointing', 27483),\n",
       " ('Sachin Tendulkar', 34357)]"
      ]
     },
     "execution_count": 23,
     "metadata": {},
     "output_type": "execute_result"
    }
   ],
   "source": [
    "# Q1\n",
    "l1=[(\"Sachin Tendulkar\",34357),(\"Ricky Pointing\",27483),(\"Jack Kallis\",25534),\n",
    "    (\"Virat Kohli\",24936)]\n",
    "sort_list(l1)\n"
   ]
  },
  {
   "cell_type": "code",
   "execution_count": 24,
   "id": "7e775e04-b77d-459d-80b1-7b53a259c242",
   "metadata": {},
   "outputs": [
    {
     "data": {
      "text/plain": [
       "[1, 4, 9, 16, 25, 36, 49, 64, 81, 100]"
      ]
     },
     "execution_count": 24,
     "metadata": {},
     "output_type": "execute_result"
    }
   ],
   "source": [
    "# Q2\n",
    "l2=[i for i in range(1,11)]\n",
    "list(map(lambda x: x**2,l2))\n"
   ]
  },
  {
   "cell_type": "code",
   "execution_count": 25,
   "id": "cf4a260e-ba05-4f59-81fa-7d1e509f8a5d",
   "metadata": {},
   "outputs": [
    {
     "data": {
      "text/plain": [
       "('1', '2', '3', '4', '5', '6', '7', '8', '9', '10')"
      ]
     },
     "execution_count": 25,
     "metadata": {},
     "output_type": "execute_result"
    }
   ],
   "source": [
    "# Q3\n",
    "l3=[i for i in range(1,11)]\n",
    "tuple(map(lambda x:str(x),l3))\n",
    "\n"
   ]
  },
  {
   "cell_type": "code",
   "execution_count": 26,
   "id": "7e28d4f4-6629-40ba-8853-3b13d60c56ed",
   "metadata": {},
   "outputs": [
    {
     "data": {
      "text/plain": [
       "15511210043330985984000000"
      ]
     },
     "execution_count": 26,
     "metadata": {},
     "output_type": "execute_result"
    }
   ],
   "source": [
    "# Q4\n",
    "from functools import reduce\n",
    "l4=[i for i in range(1,26)]\n",
    "reduce(lambda x,y: x*y,l4)\n"
   ]
  },
  {
   "cell_type": "code",
   "execution_count": 27,
   "id": "3f63d517-dd64-47f8-bc36-47168a182e86",
   "metadata": {},
   "outputs": [
    {
     "data": {
      "text/plain": [
       "[6, 60, 90, 120]"
      ]
     },
     "execution_count": 27,
     "metadata": {},
     "output_type": "execute_result"
    }
   ],
   "source": [
    "# Q5\n",
    "l5=[2,3,6,9,27,60,90,120,55,46]\n",
    "list(filter(lambda x: x % 2 == 0 and x % 3 == 0,l5))\n"
   ]
  },
  {
   "cell_type": "code",
   "execution_count": 28,
   "id": "815be3cf-0327-4744-8deb-afc26fccab57",
   "metadata": {},
   "outputs": [],
   "source": [
    "# Q6\n",
    "def palindrome(str6):\n",
    "    for i in range(len(str6)):\n",
    "        if str6[i]==str6[len(str6)-1-i]:\n",
    "            pass\n",
    "        else:\n",
    "            break\n",
    "    else:\n",
    "        return str6\n",
    "        \n",
    "        "
   ]
  },
  {
   "cell_type": "code",
   "execution_count": 29,
   "id": "a871902a-5d61-4e9f-a6e8-ceed987fb697",
   "metadata": {},
   "outputs": [
    {
     "data": {
      "text/plain": [
       "['php', 'aba', 'radar', 'level']"
      ]
     },
     "execution_count": 29,
     "metadata": {},
     "output_type": "execute_result"
    }
   ],
   "source": [
    "# Q6\n",
    "l6=['python','php','aba','radar','level']\n",
    "list(filter(palindrome,l6))"
   ]
  },
  {
   "cell_type": "code",
   "execution_count": null,
   "id": "2716391e-36da-4dbe-a4c6-acbccb3ac21b",
   "metadata": {},
   "outputs": [],
   "source": []
  }
 ],
 "metadata": {
  "kernelspec": {
   "display_name": "Python 3 (ipykernel)",
   "language": "python",
   "name": "python3"
  },
  "language_info": {
   "codemirror_mode": {
    "name": "ipython",
    "version": 3
   },
   "file_extension": ".py",
   "mimetype": "text/x-python",
   "name": "python",
   "nbconvert_exporter": "python",
   "pygments_lexer": "ipython3",
   "version": "3.10.8"
  }
 },
 "nbformat": 4,
 "nbformat_minor": 5
}
